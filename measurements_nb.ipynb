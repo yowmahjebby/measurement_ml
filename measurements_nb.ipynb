{
 "cells": [
  {
   "cell_type": "code",
   "execution_count": null,
   "id": "c254932b",
   "metadata": {},
   "outputs": [],
   "source": [
    "import pandas as pd\n",
    "import matplotlib.pyplot as plt\n",
    "import seaborn as sns\n",
    "from sklearn.linear_model import LogisticRegression"
   ]
  },
  {
   "cell_type": "code",
   "execution_count": null,
   "id": "389bd3f3",
   "metadata": {},
   "outputs": [],
   "source": [
    "measurements = pd.read_csv('train.csv')"
   ]
  },
  {
   "cell_type": "code",
   "execution_count": null,
   "id": "eeef12c7",
   "metadata": {},
   "outputs": [],
   "source": [
    "measurements.head()"
   ]
  },
  {
   "cell_type": "code",
   "execution_count": null,
   "id": "449bce3b",
   "metadata": {},
   "outputs": [],
   "source": [
    "# checking for nulls in the dataframe\n",
    "measurements.isnull().sum()"
   ]
  },
  {
   "cell_type": "code",
   "execution_count": null,
   "id": "f6f0d288",
   "metadata": {},
   "outputs": [],
   "source": [
    "# understanding the nature of the nulls\n",
    "null_rows = measurements[measurements.isnull().any(axis=1)]\n",
    "null_rows"
   ]
  },
  {
   "cell_type": "code",
   "execution_count": null,
   "id": "829ba625",
   "metadata": {},
   "outputs": [],
   "source": [
    "# removing rows without data on circumferences\n",
    "filtered_measurement = measurements.dropna(subset=['bust_circumference', 'waist_circumference',\t'hip_circumference'], how='all')\n",
    "filtered_measurement.isnull().sum()"
   ]
  },
  {
   "cell_type": "code",
   "execution_count": null,
   "id": "053c17d2",
   "metadata": {},
   "outputs": [],
   "source": [
    "# checking for outliers\n",
    "filtered_measurement.describe(include='all')"
   ]
  },
  {
   "cell_type": "code",
   "execution_count": null,
   "id": "33e7e452",
   "metadata": {},
   "outputs": [],
   "source": [
    "# checking the balance of the dataset\n",
    "gender_counts = filtered_measurement['gender'].value_counts().reset_index()\n",
    "gender_counts"
   ]
  },
  {
   "cell_type": "code",
   "execution_count": null,
   "id": "622521f4",
   "metadata": {},
   "outputs": [],
   "source": [
    "plt.figure(figsize=(8,8))\n",
    "plt.pie(gender_counts['count'], labels=['Female', 'Male'], autopct='%1.3f%%',explode=[0,0])\n",
    "plt.legend(loc='upper left')\n",
    "plt.show()"
   ]
  },
  {
   "cell_type": "code",
   "execution_count": null,
   "id": "3e0f60b8",
   "metadata": {},
   "outputs": [],
   "source": [
    "# checking the data types per column\n",
    "filtered_measurement.info()"
   ]
  },
  {
   "cell_type": "code",
   "execution_count": null,
   "id": "72307cd1",
   "metadata": {},
   "outputs": [],
   "source": [
    "# standardizing numeric data\n",
    "std_measurements = filtered_measurement.copy()\n",
    "cols_to_convert = ['height', 'bust_circumference', 'waist_circumference', 'hip_circumference']\n",
    "\n",
    "for col in cols_to_convert:\n",
    "    std_measurements.loc[:, col] = (\n",
    "        std_measurements[col]\n",
    "        .astype(str)\n",
    "        .str.replace(',', '', regex=False)\n",
    "        .astype(float)\n",
    "    )\n",
    "\n",
    "std_measurements"
   ]
  },
  {
   "cell_type": "code",
   "execution_count": null,
   "id": "27066928",
   "metadata": {},
   "outputs": [],
   "source": [
    "# Creating box plot for outliers\n",
    "sns.boxplot(x= 'gender', y='age', data=std_measurements)\n",
    "plt.title(\"Age vs Gender\")\n",
    "plt.show()\n"
   ]
  },
  {
   "cell_type": "code",
   "execution_count": null,
   "id": "528ba632",
   "metadata": {},
   "outputs": [],
   "source": [
    "# Creating box plot for outliers\n",
    "sns.boxplot(x= 'gender', y='height', data=std_measurements)\n",
    "plt.title(\"Height vs Gender\")\n",
    "plt.show()"
   ]
  },
  {
   "cell_type": "code",
   "execution_count": null,
   "id": "0b60978d",
   "metadata": {},
   "outputs": [],
   "source": [
    "# Creating box plot for outliers\n",
    "sns.boxplot(x= 'gender', y='weight', data=std_measurements)\n",
    "plt.title(\"Weight vs Gender\")\n",
    "plt.show()"
   ]
  },
  {
   "cell_type": "code",
   "execution_count": null,
   "id": "faa3f69a",
   "metadata": {},
   "outputs": [],
   "source": [
    "# Creating box plot for outliers\n",
    "sns.boxplot(x= 'gender', y='bust_circumference', data=std_measurements)\n",
    "plt.title(\"Bust vs Gender\")\n",
    "plt.show()"
   ]
  },
  {
   "cell_type": "code",
   "execution_count": null,
   "id": "35b1bb77",
   "metadata": {},
   "outputs": [],
   "source": [
    "# Creating box plot for outliers\n",
    "sns.boxplot(x= 'gender', y='waist_circumference', data=std_measurements)\n",
    "plt.title(\"Waist vs Gender\")\n",
    "plt.show()"
   ]
  },
  {
   "cell_type": "code",
   "execution_count": null,
   "id": "b90c7b3e",
   "metadata": {},
   "outputs": [],
   "source": [
    "# Creating box plot for outliers\n",
    "sns.boxplot(x= 'gender', y='hip_circumference', data=std_measurements)\n",
    "plt.title(\"Hip vs Gender\")\n",
    "plt.show()"
   ]
  },
  {
   "cell_type": "code",
   "execution_count": null,
   "id": "aae72844",
   "metadata": {},
   "outputs": [],
   "source": [
    "# including ratios between measurements\n",
    "std_measurements['whr'] = std_measurements['waist_circumference'] / std_measurements['hip_circumference']\n",
    "std_measurements['bhr'] = std_measurements['bust_circumference'] / std_measurements['hip_circumference']\n",
    "std_measurements['bwr'] = std_measurements['bust_circumference'] / std_measurements['waist_circumference']\n",
    "std_measurements"
   ]
  },
  {
   "cell_type": "code",
   "execution_count": null,
   "id": "c3a75cf1",
   "metadata": {},
   "outputs": [],
   "source": [
    "# Creating box plot for outliers\n",
    "sns.boxplot(x= 'gender', y='whr', data=std_measurements)\n",
    "plt.title(\"WHR vs Gender\")\n",
    "plt.show()"
   ]
  },
  {
   "cell_type": "code",
   "execution_count": null,
   "id": "feb21f66",
   "metadata": {},
   "outputs": [],
   "source": [
    "# Creating box plot for outliers\n",
    "sns.boxplot(x= 'gender', y='bhr', data=std_measurements)\n",
    "plt.title(\"BHR vs Gender\")\n",
    "plt.show()"
   ]
  },
  {
   "cell_type": "code",
   "execution_count": null,
   "id": "a4ef8e47",
   "metadata": {},
   "outputs": [],
   "source": [
    "# Creating box plot for outliers\n",
    "sns.boxplot(x= 'gender', y='bwr', data=std_measurements)\n",
    "plt.title(\"BWR vs Gender\")\n",
    "plt.show()"
   ]
  }
 ],
 "metadata": {
  "kernelspec": {
   "display_name": ".venv",
   "language": "python",
   "name": "python3"
  },
  "language_info": {
   "codemirror_mode": {
    "name": "ipython",
    "version": 3
   },
   "file_extension": ".py",
   "mimetype": "text/x-python",
   "name": "python",
   "nbconvert_exporter": "python",
   "pygments_lexer": "ipython3",
   "version": "3.13.3"
  }
 },
 "nbformat": 4,
 "nbformat_minor": 5
}
